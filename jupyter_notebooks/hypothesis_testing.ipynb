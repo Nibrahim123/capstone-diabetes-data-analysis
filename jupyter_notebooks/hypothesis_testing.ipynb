{
 "cells": [
  {
   "cell_type": "markdown",
   "id": "7b8c0278",
   "metadata": {},
   "source": [
    "# Hypothesis Testing – Diabetes Health Indicators"
   ]
  },
  {
   "cell_type": "markdown",
   "id": "7ab0eb71",
   "metadata": {},
   "source": [
    "This notebook applies statistical hypothesis testing to explore key relationships in the Diabetes Health Indicators dataset.  \n",
    "The dataset has been cleaned and encoded during the ETL and Feature Engineering stages and is stored in `combined_ml_ready.csv`.\n",
    "\n",
    "For each hypothesis:\n",
    "- Define null and alternative hypotheses.\n",
    "- Select an appropriate statistical test.\n",
    "- Calculate effect sizes to gauge practical significance.\n",
    "- Provide an interpretation in plain English.\n"
   ]
  },
  {
   "cell_type": "markdown",
   "id": "d3e97856",
   "metadata": {},
   "source": [
    "# Load Libraries and Dataset"
   ]
  },
  {
   "cell_type": "markdown",
   "id": "f921ab52",
   "metadata": {},
   "source": [
    "We begin by importing the required Python libraries:\n",
    "\n",
    "- **pandas**: Data manipulation\n",
    "- **numpy**: Numerical computations\n",
    "- **scipy.stats**: Statistical tests\n",
    "\n",
    "We will then load the prepared dataset `combined_ml_ready.csv` for hypothesis testing."
   ]
  },
  {
   "cell_type": "code",
   "execution_count": 1,
   "id": "7b8fad4a",
   "metadata": {},
   "outputs": [],
   "source": [
    "# 1. Import Libraries\n",
    "import pandas as pd\n",
    "import numpy as np\n",
    "from scipy.stats import chi2_contingency, mannwhitneyu\n",
    "import math"
   ]
  },
  {
   "cell_type": "code",
   "execution_count": 2,
   "id": "0ff3a98c",
   "metadata": {},
   "outputs": [
    {
     "data": {
      "text/html": [
       "<div>\n",
       "<style scoped>\n",
       "    .dataframe tbody tr th:only-of-type {\n",
       "        vertical-align: middle;\n",
       "    }\n",
       "\n",
       "    .dataframe tbody tr th {\n",
       "        vertical-align: top;\n",
       "    }\n",
       "\n",
       "    .dataframe thead th {\n",
       "        text-align: right;\n",
       "    }\n",
       "</style>\n",
       "<table border=\"1\" class=\"dataframe\">\n",
       "  <thead>\n",
       "    <tr style=\"text-align: right;\">\n",
       "      <th></th>\n",
       "      <th>Diabetes_012</th>\n",
       "      <th>HighBP</th>\n",
       "      <th>HighChol</th>\n",
       "      <th>CholCheck</th>\n",
       "      <th>BMI</th>\n",
       "      <th>Smoker</th>\n",
       "      <th>Stroke</th>\n",
       "      <th>HeartDiseaseorAttack</th>\n",
       "      <th>PhysActivity</th>\n",
       "      <th>Fruits</th>\n",
       "      <th>...</th>\n",
       "      <th>Education_4.0</th>\n",
       "      <th>Education_5.0</th>\n",
       "      <th>Education_6.0</th>\n",
       "      <th>Income_2.0</th>\n",
       "      <th>Income_3.0</th>\n",
       "      <th>Income_4.0</th>\n",
       "      <th>Income_5.0</th>\n",
       "      <th>Income_6.0</th>\n",
       "      <th>Income_7.0</th>\n",
       "      <th>Income_8.0</th>\n",
       "    </tr>\n",
       "  </thead>\n",
       "  <tbody>\n",
       "    <tr>\n",
       "      <th>0</th>\n",
       "      <td>0.0</td>\n",
       "      <td>1.0</td>\n",
       "      <td>1.0</td>\n",
       "      <td>1.0</td>\n",
       "      <td>1.627540</td>\n",
       "      <td>1.0</td>\n",
       "      <td>0.0</td>\n",
       "      <td>0.0</td>\n",
       "      <td>0.0</td>\n",
       "      <td>0.0</td>\n",
       "      <td>...</td>\n",
       "      <td>True</td>\n",
       "      <td>False</td>\n",
       "      <td>False</td>\n",
       "      <td>False</td>\n",
       "      <td>True</td>\n",
       "      <td>False</td>\n",
       "      <td>False</td>\n",
       "      <td>False</td>\n",
       "      <td>False</td>\n",
       "      <td>False</td>\n",
       "    </tr>\n",
       "    <tr>\n",
       "      <th>1</th>\n",
       "      <td>0.0</td>\n",
       "      <td>0.0</td>\n",
       "      <td>0.0</td>\n",
       "      <td>0.0</td>\n",
       "      <td>-0.562466</td>\n",
       "      <td>1.0</td>\n",
       "      <td>0.0</td>\n",
       "      <td>0.0</td>\n",
       "      <td>1.0</td>\n",
       "      <td>0.0</td>\n",
       "      <td>...</td>\n",
       "      <td>False</td>\n",
       "      <td>False</td>\n",
       "      <td>True</td>\n",
       "      <td>False</td>\n",
       "      <td>False</td>\n",
       "      <td>False</td>\n",
       "      <td>False</td>\n",
       "      <td>False</td>\n",
       "      <td>False</td>\n",
       "      <td>False</td>\n",
       "    </tr>\n",
       "    <tr>\n",
       "      <th>2</th>\n",
       "      <td>0.0</td>\n",
       "      <td>1.0</td>\n",
       "      <td>1.0</td>\n",
       "      <td>1.0</td>\n",
       "      <td>-0.124464</td>\n",
       "      <td>0.0</td>\n",
       "      <td>0.0</td>\n",
       "      <td>0.0</td>\n",
       "      <td>0.0</td>\n",
       "      <td>1.0</td>\n",
       "      <td>...</td>\n",
       "      <td>True</td>\n",
       "      <td>False</td>\n",
       "      <td>False</td>\n",
       "      <td>False</td>\n",
       "      <td>False</td>\n",
       "      <td>False</td>\n",
       "      <td>False</td>\n",
       "      <td>False</td>\n",
       "      <td>False</td>\n",
       "      <td>True</td>\n",
       "    </tr>\n",
       "    <tr>\n",
       "      <th>3</th>\n",
       "      <td>0.0</td>\n",
       "      <td>1.0</td>\n",
       "      <td>0.0</td>\n",
       "      <td>1.0</td>\n",
       "      <td>-0.270465</td>\n",
       "      <td>0.0</td>\n",
       "      <td>0.0</td>\n",
       "      <td>0.0</td>\n",
       "      <td>1.0</td>\n",
       "      <td>1.0</td>\n",
       "      <td>...</td>\n",
       "      <td>False</td>\n",
       "      <td>False</td>\n",
       "      <td>False</td>\n",
       "      <td>False</td>\n",
       "      <td>False</td>\n",
       "      <td>False</td>\n",
       "      <td>False</td>\n",
       "      <td>True</td>\n",
       "      <td>False</td>\n",
       "      <td>False</td>\n",
       "    </tr>\n",
       "    <tr>\n",
       "      <th>4</th>\n",
       "      <td>0.0</td>\n",
       "      <td>1.0</td>\n",
       "      <td>1.0</td>\n",
       "      <td>1.0</td>\n",
       "      <td>-0.708466</td>\n",
       "      <td>0.0</td>\n",
       "      <td>0.0</td>\n",
       "      <td>0.0</td>\n",
       "      <td>1.0</td>\n",
       "      <td>1.0</td>\n",
       "      <td>...</td>\n",
       "      <td>False</td>\n",
       "      <td>True</td>\n",
       "      <td>False</td>\n",
       "      <td>False</td>\n",
       "      <td>False</td>\n",
       "      <td>True</td>\n",
       "      <td>False</td>\n",
       "      <td>False</td>\n",
       "      <td>False</td>\n",
       "      <td>False</td>\n",
       "    </tr>\n",
       "  </tbody>\n",
       "</table>\n",
       "<p>5 rows × 40 columns</p>\n",
       "</div>"
      ],
      "text/plain": [
       "   Diabetes_012  HighBP  HighChol  CholCheck       BMI  Smoker  Stroke  \\\n",
       "0           0.0     1.0       1.0        1.0  1.627540     1.0     0.0   \n",
       "1           0.0     0.0       0.0        0.0 -0.562466     1.0     0.0   \n",
       "2           0.0     1.0       1.0        1.0 -0.124464     0.0     0.0   \n",
       "3           0.0     1.0       0.0        1.0 -0.270465     0.0     0.0   \n",
       "4           0.0     1.0       1.0        1.0 -0.708466     0.0     0.0   \n",
       "\n",
       "   HeartDiseaseorAttack  PhysActivity  Fruits  ...  Education_4.0  \\\n",
       "0                   0.0           0.0     0.0  ...           True   \n",
       "1                   0.0           1.0     0.0  ...          False   \n",
       "2                   0.0           0.0     1.0  ...           True   \n",
       "3                   0.0           1.0     1.0  ...          False   \n",
       "4                   0.0           1.0     1.0  ...          False   \n",
       "\n",
       "   Education_5.0  Education_6.0  Income_2.0  Income_3.0  Income_4.0  \\\n",
       "0          False          False       False        True       False   \n",
       "1          False           True       False       False       False   \n",
       "2          False          False       False       False       False   \n",
       "3          False          False       False       False       False   \n",
       "4           True          False       False       False        True   \n",
       "\n",
       "   Income_5.0  Income_6.0  Income_7.0  Income_8.0  \n",
       "0       False       False       False       False  \n",
       "1       False       False       False       False  \n",
       "2       False       False       False        True  \n",
       "3       False        True       False       False  \n",
       "4       False       False       False       False  \n",
       "\n",
       "[5 rows x 40 columns]"
      ]
     },
     "execution_count": 2,
     "metadata": {},
     "output_type": "execute_result"
    }
   ],
   "source": [
    "# Load dataset\n",
    "df = pd.read_csv(\"../data/combined_ml_ready.csv\")\n",
    "df.head()"
   ]
  },
  {
   "cell_type": "markdown",
   "id": "f6d3af53",
   "metadata": {},
   "source": [
    "# Helper Functions"
   ]
  },
  {
   "cell_type": "markdown",
   "id": "1acfb5af",
   "metadata": {},
   "source": [
    "We define helper functions for:\n",
    "- **Cramér’s V**: Effect size for Chi-square tests (categorical-categorical relationships).\n",
    "- **Interpretation helpers**: Convert numerical effect size into qualitative descriptors."
   ]
  },
  {
   "cell_type": "code",
   "execution_count": 4,
   "id": "30a5b92c",
   "metadata": {},
   "outputs": [],
   "source": [
    "# Cramér's V function\n",
    "def cramers_v(confusion_matrix):\n",
    "    chi2 = chi2_contingency(confusion_matrix)[0]\n",
    "    n = confusion_matrix.sum().sum()\n",
    "    phi2 = chi2 / n\n",
    "    r, k = confusion_matrix.shape\n",
    "    return np.sqrt(phi2 / min(k-1, r-1))\n",
    "\n",
    "# Interpretation helper\n",
    "def interpret_cramers_v(value):\n",
    "    if value < 0.1:\n",
    "        return \"Negligible\"\n",
    "    elif value < 0.3:\n",
    "        return \"Small\"\n",
    "    elif value < 0.5:\n",
    "        return \"Medium\"\n",
    "    else:\n",
    "        return \"Large\""
   ]
  },
  {
   "cell_type": "markdown",
   "id": "c15e4a4a",
   "metadata": {},
   "source": [
    "# Hypothesis 1 – Smoking and Diabetes"
   ]
  },
  {
   "cell_type": "markdown",
   "id": "a574ceba",
   "metadata": {},
   "source": [
    "**Question:** Do smokers have higher diabetes prevalence than non-smokers?  \n",
    "\n",
    "- **H0:** Smoking status is independent of diabetes prevalence.  \n",
    "- **H1:** Smoking status is associated with diabetes prevalence.  \n",
    "\n",
    "**Test:** Chi-square test of independence  \n",
    "**Effect Size:** Cramér’s V"
   ]
  },
  {
   "cell_type": "code",
   "execution_count": 5,
   "id": "18205769",
   "metadata": {},
   "outputs": [
    {
     "name": "stdout",
     "output_type": "stream",
     "text": [
      "Chi-square test p-value: 1.4959852814797885e-188\n",
      "Cramér's V: 0.040293704797596204 - Negligible\n"
     ]
    }
   ],
   "source": [
    "# Contingency table\n",
    "contingency = pd.crosstab(df['Smoker'], df['Diabetes_binary'])\n",
    "chi2, p, dof, expected = chi2_contingency(contingency)\n",
    "\n",
    "# Effect size\n",
    "cv = cramers_v(contingency)\n",
    "\n",
    "print(\"Chi-square test p-value:\", p)\n",
    "print(\"Cramér's V:\", cv, \"-\", interpret_cramers_v(cv))"
   ]
  },
  {
   "cell_type": "markdown",
   "id": "bdc71888",
   "metadata": {},
   "source": [
    "**Interpretation:**  \n",
    "- Extremely small p-value → statistically significant association between smoking and diabetes.  \n",
    "- Effect size is **negligible (~0.04)**, so the relationship is weak in practical terms."
   ]
  },
  {
   "cell_type": "code",
   "execution_count": 16,
   "id": "d07b34f2",
   "metadata": {},
   "outputs": [],
   "source": [
    "# Define a simple add_result function\n",
    "results = []\n",
    "\n",
    "def add_result(**kwargs):\n",
    "    results.append(kwargs)\n",
    "\n",
    "# Your hypothesis 1 result\n",
    "add_result(\n",
    "    hypothesis=\"H1\",\n",
    "    question=\"Smoking is associated with diabetes.\",\n",
    "    test=\"Chi-square (Smoker x Diabetes_binary)\",\n",
    "    stat_label=\"chi2\",\n",
    "    stat_value=chi2,\n",
    "    p=p,\n",
    "    effect_label=\"Cramér's V\",\n",
    "    effect_value=cv,\n",
    "    effect_note=strength,\n",
    "    notes=pd.crosstab(df['Diabetes_binary'], df['Smoker']).to_string()\n",
    ")"
   ]
  },
  {
   "cell_type": "markdown",
   "id": "dd1bafb5",
   "metadata": {},
   "source": [
    "# Hypothesis 2 – BMI & Diabetes"
   ]
  },
  {
   "cell_type": "markdown",
   "id": "6f8778e8",
   "metadata": {},
   "source": [
    "### Hypothesis 2 – BMI and Diabetes\n",
    "\n",
    "**Null Hypothesis (H₀):** There is no difference in BMI between people with and without diabetes.  \n",
    "**Alternative Hypothesis (H₁):** There is a difference in BMI between the two groups.\n",
    "\n",
    "We will use the **Mann-Whitney U Test** (non-parametric test) to compare medians, and calculate **rank-biserial correlation** for effect size."
   ]
  },
  {
   "cell_type": "code",
   "execution_count": 17,
   "id": "7222a5e3",
   "metadata": {},
   "outputs": [
    {
     "name": "stdout",
     "output_type": "stream",
     "text": [
      "Mann-Whitney U p-value: 0.0\n",
      "Rank-biserial correlation: -0.32377932042043445\n"
     ]
    }
   ],
   "source": [
    "# Split into groups\n",
    "bmi_diabetes = df[df['Diabetes_binary'] == 1]['BMI']\n",
    "bmi_no_diabetes = df[df['Diabetes_binary'] == 0]['BMI']\n",
    "\n",
    "# Mann-Whitney U test\n",
    "stat, p = mannwhitneyu(bmi_diabetes, bmi_no_diabetes, alternative='two-sided')\n",
    "\n",
    "# Effect size (rank-biserial correlation)\n",
    "n1, n2 = len(bmi_diabetes), len(bmi_no_diabetes)\n",
    "rank_biserial = 1 - (2 * stat) / (n1 * n2)\n",
    "\n",
    "print(f\"Mann-Whitney U p-value: {p}\")\n",
    "print(f\"Rank-biserial correlation: {rank_biserial}\")"
   ]
  },
  {
   "cell_type": "markdown",
   "id": "0ce6c049",
   "metadata": {},
   "source": [
    "**Interpretation:**  \n",
    "- Very small p-value → BMI differs significantly between diabetic and non-diabetic individuals.  \n",
    "- The rank-biserial correlation shows the strength/direction of the difference.\n"
   ]
  },
  {
   "cell_type": "code",
   "execution_count": 21,
   "id": "41c1a26b",
   "metadata": {},
   "outputs": [],
   "source": [
    "add_result(\n",
    "    hypothesis=\"H2\",\n",
    "    question=\"BMI differs between diabetic and non-diabetic respondents.\",\n",
    "    test=\"Mann–Whitney U (BMI by Diabetes_binary)\",\n",
    "    stat_label=\"U\",\n",
    "    stat_value=stat,\n",
    "    p=p,\n",
    "    effect_label=\"Rank-biserial\",\n",
    "    effect_value=rank_biserial,\n",
    "    effect_note=\"direction & magnitude shown by rank-biserial\",\n",
    "    notes=f\"n_diab={len(bmi_diabetes)}, n_nodiab={len(bmi_no_diabetes)}\"\n",
    ")"
   ]
  },
  {
   "cell_type": "markdown",
   "id": "88669974",
   "metadata": {},
   "source": [
    "# Hypothesis 3 – Physical Activity & Diabetes"
   ]
  },
  {
   "cell_type": "markdown",
   "id": "8dc707de",
   "metadata": {},
   "source": [
    "### Hypothesis 3 – Physical Activity and Diabetes\n",
    "\n",
    "**Null Hypothesis (H₀):** There is no association between physical activity and diabetes.  \n",
    "**Alternative Hypothesis (H₁):** There is an association between physical activity and diabetes."
   ]
  },
  {
   "cell_type": "code",
   "execution_count": 22,
   "id": "5eacd858",
   "metadata": {},
   "outputs": [
    {
     "name": "stdout",
     "output_type": "stream",
     "text": [
      "Chi-square test p-value: 0.0\n",
      "Cramér's V: 0.08789727629790087 - Negligible\n"
     ]
    }
   ],
   "source": [
    "# Hypothesis 3 – Physical Activity & Diabetes\n",
    "contingency = pd.crosstab(df['Diabetes_binary'], df['PhysActivity'])\n",
    "chi2, p, dof, expected = chi2_contingency(contingency)\n",
    "\n",
    "cv = cramers_v(contingency)\n",
    "strength = interpret_cramers_v(cv)\n",
    "\n",
    "print(f\"Chi-square test p-value: {p}\")\n",
    "print(f\"Cramér's V: {cv} - {strength}\")"
   ]
  },
  {
   "cell_type": "markdown",
   "id": "fb362e69",
   "metadata": {},
   "source": [
    "**Interpretation:**  \n",
    "- Very small p-value → statistically significant relationship between physical activity and diabetes.  \n",
    "- Effect size is **very small (~0.03)**, so the practical relationship is weak."
   ]
  },
  {
   "cell_type": "code",
   "execution_count": 25,
   "id": "27dcc061",
   "metadata": {},
   "outputs": [],
   "source": [
    "add_result(\n",
    "    hypothesis=\"H3\",\n",
    "    question=\"Physical activity is associated with diabetes.\",\n",
    "    test=\"Chi-square (PhysActivity x Diabetes_binary)\",\n",
    "    stat_label=\"chi2\",\n",
    "    stat_value=chi2,\n",
    "    p=p,\n",
    "    effect_label=\"Cramér's V\",\n",
    "    effect_value=cv,\n",
    "    effect_note=strength,\n",
    "    notes=pd.crosstab(df['Diabetes_binary'], df['PhysActivity']).to_string()\n",
    ")"
   ]
  },
  {
   "cell_type": "markdown",
   "id": "e23d12db",
   "metadata": {},
   "source": [
    "# Hypothesis 4 – High Blood Pressure & Diabetes"
   ]
  },
  {
   "cell_type": "markdown",
   "id": "4a63f22e",
   "metadata": {},
   "source": [
    "### Hypothesis 4 – High Blood Pressure and Diabetes\n",
    "\n",
    "**Null Hypothesis (H₀):** There is no association between high blood pressure and diabetes.  \n",
    "**Alternative Hypothesis (H₁):** There is an association between high blood pressure and diabetes."
   ]
  },
  {
   "cell_type": "code",
   "execution_count": 26,
   "id": "9fd90d3e",
   "metadata": {},
   "outputs": [
    {
     "name": "stdout",
     "output_type": "stream",
     "text": [
      "Chi-square test p-value: 0.0\n",
      "Cramér's V: 0.22170520449166004 - Small\n"
     ]
    }
   ],
   "source": [
    "# Hypothesis 4 – High Blood Pressure & Diabetes\n",
    "contingency = pd.crosstab(df['Diabetes_binary'], df['HighBP'])\n",
    "chi2, p, dof, expected = chi2_contingency(contingency)\n",
    "\n",
    "cv = cramers_v(contingency)\n",
    "strength = interpret_cramers_v(cv)\n",
    "\n",
    "print(f\"Chi-square test p-value: {p}\")\n",
    "print(f\"Cramér's V: {cv} - {strength}\")"
   ]
  },
  {
   "cell_type": "markdown",
   "id": "08bca3d7",
   "metadata": {},
   "source": [
    "**Interpretation:**  \n",
    "- Very small p-value → statistically significant relationship between high blood pressure and diabetes.  \n",
    "- Effect size is **negligible (~0.04)**, so it’s a weak relationship in practice."
   ]
  },
  {
   "cell_type": "code",
   "execution_count": 28,
   "id": "c88f483c",
   "metadata": {},
   "outputs": [],
   "source": [
    "add_result(\n",
    "    hypothesis=\"H4\",\n",
    "    question=\"High blood pressure is associated with diabetes.\",\n",
    "    test=\"Chi-square (HighBP x Diabetes_binary)\",\n",
    "    stat_label=\"chi2\",\n",
    "    stat_value=chi2,\n",
    "    p=p,\n",
    "    effect_label=\"Cramér's V\",\n",
    "    effect_value=cv,\n",
    "    effect_note=strength,\n",
    "    notes=pd.crosstab(df['Diabetes_binary'], df['HighBP']).to_string()\n",
    ")"
   ]
  },
  {
   "cell_type": "markdown",
   "id": "55d564e9",
   "metadata": {},
   "source": [
    "# Hypothesis 5 – General Health & Diabetes"
   ]
  },
  {
   "cell_type": "markdown",
   "id": "b9f303b2",
   "metadata": {},
   "source": [
    "### Hypothesis 5 – General Health and Diabetes\n",
    "\n",
    "**Null Hypothesis (H₀):** There is no association between general health status and diabetes.  \n",
    "**Alternative Hypothesis (H₁):** There is an association between general health status and diabetes."
   ]
  },
  {
   "cell_type": "code",
   "execution_count": 29,
   "id": "e930dc07",
   "metadata": {},
   "outputs": [
    {
     "name": "stdout",
     "output_type": "stream",
     "text": [
      "Chi-square test p-value: 0.0\n",
      "Cramér's V: 0.24374009231117402 - Small\n"
     ]
    }
   ],
   "source": [
    "# Hypothesis 5 – General Health & Diabetes\n",
    "contingency = pd.crosstab(df['Diabetes_binary'], df['GenHlth'])\n",
    "chi2, p, dof, expected = chi2_contingency(contingency)\n",
    "\n",
    "cv = cramers_v(contingency)\n",
    "strength = interpret_cramers_v(cv)\n",
    "\n",
    "print(f\"Chi-square test p-value: {p}\")\n",
    "print(f\"Cramér's V: {cv} - {strength}\")"
   ]
  },
  {
   "cell_type": "markdown",
   "id": "2709b971",
   "metadata": {},
   "source": [
    "**Interpretation:**  \n",
    "- Very small p-value → statistically significant association between self-reported general health and diabetes.  \n",
    "- Effect size is **small-to-moderate (~0.18)**, meaning this is one of the stronger practical relationships in our tests."
   ]
  },
  {
   "cell_type": "code",
   "execution_count": 30,
   "id": "45565aa6",
   "metadata": {},
   "outputs": [],
   "source": [
    "add_result(\n",
    "    hypothesis=\"H5\",\n",
    "    question=\"General health status is associated with diabetes.\",\n",
    "    test=\"Chi-square (GenHlth x Diabetes_binary)\",\n",
    "    stat_label=\"chi2\",\n",
    "    stat_value=chi2,\n",
    "    p=p,\n",
    "    effect_label=\"Cramér's V\",\n",
    "    effect_value=cv,\n",
    "    effect_note=strength,\n",
    "    notes=pd.crosstab(df['Diabetes_binary'], df['GenHlth']).to_string()\n",
    ")"
   ]
  },
  {
   "cell_type": "markdown",
   "id": "234bb797",
   "metadata": {},
   "source": [
    "### Exporting Hypothesis Testing Results for Tableau\n",
    "\n",
    "\n",
    "In this final step, we consolidate the results from all five hypotheses into a single summary table.  \n",
    "For each hypothesis, we previously appended its test name, statistical value, p-value, effect size, interpretation, and any relevant notes using the `add_result()` helper function.  \n",
    "\n",
    "This table now contains:\n",
    "- `hypothesis` – the ID for each test (H1–H5)\n",
    "- `question` – the research question being tested\n",
    "- `test` – the statistical test applied\n",
    "- `p` – the p-value from the statistical test\n",
    "- `effect_value` – the effect size numerical value\n",
    "- `effect_note` – interpretation of the effect size strength or direction\n",
    "- `Significant_0.05` – True/False flag for standard 0.05 significance threshold\n",
    "- `Significant_Bonferroni_0.01` – True/False flag for Bonferroni-adjusted 0.01 threshold\n",
    "- `notes` – any extra context or sample counts from the data\n",
    "\n",
    "The file created here, **`hypothesis_results_summary.csv`**, acts as a bridge between our Python statistical analysis and our Tableau dashboard.  \n",
    "By using this CSV in Tableau, we can:\n",
    "- Create an interactive table of results\n",
    "- Highlight significant results with conditional formatting\n",
    "- Compare effect sizes visually\n",
    "\n",
    "This structured approach ensures our statistical findings are easily understood by both technical and non-technical audiences."
   ]
  },
  {
   "cell_type": "code",
   "execution_count": 32,
   "id": "9090c32f",
   "metadata": {},
   "outputs": [
    {
     "data": {
      "text/html": [
       "<div>\n",
       "<style scoped>\n",
       "    .dataframe tbody tr th:only-of-type {\n",
       "        vertical-align: middle;\n",
       "    }\n",
       "\n",
       "    .dataframe tbody tr th {\n",
       "        vertical-align: top;\n",
       "    }\n",
       "\n",
       "    .dataframe thead th {\n",
       "        text-align: right;\n",
       "    }\n",
       "</style>\n",
       "<table border=\"1\" class=\"dataframe\">\n",
       "  <thead>\n",
       "    <tr style=\"text-align: right;\">\n",
       "      <th></th>\n",
       "      <th>hypothesis</th>\n",
       "      <th>question</th>\n",
       "      <th>test</th>\n",
       "      <th>p</th>\n",
       "      <th>effect_value</th>\n",
       "      <th>effect_note</th>\n",
       "      <th>Significant_0.05</th>\n",
       "      <th>Significant_Bonferroni_0.01</th>\n",
       "      <th>notes</th>\n",
       "    </tr>\n",
       "  </thead>\n",
       "  <tbody>\n",
       "    <tr>\n",
       "      <th>0</th>\n",
       "      <td>H1</td>\n",
       "      <td>Smoking is associated with diabetes.</td>\n",
       "      <td>Chi-square (Smoker x Diabetes_binary)</td>\n",
       "      <td>0.0</td>\n",
       "      <td>0.243740</td>\n",
       "      <td>Small</td>\n",
       "      <td>True</td>\n",
       "      <td>True</td>\n",
       "      <td>Smoker              0.0     1.0\\nDiabetes_bina...</td>\n",
       "    </tr>\n",
       "    <tr>\n",
       "      <th>1</th>\n",
       "      <td>H2</td>\n",
       "      <td>BMI differs between diabetic and non-diabetic ...</td>\n",
       "      <td>Mann–Whitney U (BMI by Diabetes_binary)</td>\n",
       "      <td>0.0</td>\n",
       "      <td>-0.323779</td>\n",
       "      <td>direction &amp; magnitude shown by rank-biserial</td>\n",
       "      <td>True</td>\n",
       "      <td>True</td>\n",
       "      <td>n_diab=70194, n_nodiab=458118</td>\n",
       "    </tr>\n",
       "    <tr>\n",
       "      <th>2</th>\n",
       "      <td>H3</td>\n",
       "      <td>Physical activity is associated with diabetes.</td>\n",
       "      <td>Chi-square (PhysActivity x Diabetes_binary)</td>\n",
       "      <td>0.0</td>\n",
       "      <td>0.243740</td>\n",
       "      <td>Small</td>\n",
       "      <td>True</td>\n",
       "      <td>True</td>\n",
       "      <td>PhysActivity        0.0     1.0\\nDiabetes_bina...</td>\n",
       "    </tr>\n",
       "    <tr>\n",
       "      <th>3</th>\n",
       "      <td>H4</td>\n",
       "      <td>High blood pressure is associated with diabetes.</td>\n",
       "      <td>Chi-square (HighBP x Diabetes_binary)</td>\n",
       "      <td>0.0</td>\n",
       "      <td>0.243740</td>\n",
       "      <td>Small</td>\n",
       "      <td>True</td>\n",
       "      <td>True</td>\n",
       "      <td>HighBP              0.0     1.0\\nDiabetes_bina...</td>\n",
       "    </tr>\n",
       "    <tr>\n",
       "      <th>4</th>\n",
       "      <td>H5</td>\n",
       "      <td>General health status is associated with diabe...</td>\n",
       "      <td>Chi-square (GenHlth x Diabetes_binary)</td>\n",
       "      <td>0.0</td>\n",
       "      <td>0.243740</td>\n",
       "      <td>Small</td>\n",
       "      <td>True</td>\n",
       "      <td>True</td>\n",
       "      <td>GenHlth            1.0     2.0     3.0    4.0 ...</td>\n",
       "    </tr>\n",
       "  </tbody>\n",
       "</table>\n",
       "</div>"
      ],
      "text/plain": [
       "  hypothesis                                           question  \\\n",
       "0         H1               Smoking is associated with diabetes.   \n",
       "1         H2  BMI differs between diabetic and non-diabetic ...   \n",
       "2         H3     Physical activity is associated with diabetes.   \n",
       "3         H4   High blood pressure is associated with diabetes.   \n",
       "4         H5  General health status is associated with diabe...   \n",
       "\n",
       "                                          test    p  effect_value  \\\n",
       "0        Chi-square (Smoker x Diabetes_binary)  0.0      0.243740   \n",
       "1      Mann–Whitney U (BMI by Diabetes_binary)  0.0     -0.323779   \n",
       "2  Chi-square (PhysActivity x Diabetes_binary)  0.0      0.243740   \n",
       "3        Chi-square (HighBP x Diabetes_binary)  0.0      0.243740   \n",
       "4       Chi-square (GenHlth x Diabetes_binary)  0.0      0.243740   \n",
       "\n",
       "                                    effect_note  Significant_0.05  \\\n",
       "0                                         Small              True   \n",
       "1  direction & magnitude shown by rank-biserial              True   \n",
       "2                                         Small              True   \n",
       "3                                         Small              True   \n",
       "4                                         Small              True   \n",
       "\n",
       "   Significant_Bonferroni_0.01  \\\n",
       "0                         True   \n",
       "1                         True   \n",
       "2                         True   \n",
       "3                         True   \n",
       "4                         True   \n",
       "\n",
       "                                               notes  \n",
       "0  Smoker              0.0     1.0\\nDiabetes_bina...  \n",
       "1                      n_diab=70194, n_nodiab=458118  \n",
       "2  PhysActivity        0.0     1.0\\nDiabetes_bina...  \n",
       "3  HighBP              0.0     1.0\\nDiabetes_bina...  \n",
       "4  GenHlth            1.0     2.0     3.0    4.0 ...  "
      ]
     },
     "execution_count": 32,
     "metadata": {},
     "output_type": "execute_result"
    }
   ],
   "source": [
    "# Create summary DataFrame from results list\n",
    "summary = pd.DataFrame(results)\n",
    "\n",
    "# Add significance flags\n",
    "summary[\"Significant_0.05\"] = summary[\"p\"] < 0.05\n",
    "summary[\"Significant_Bonferroni_0.01\"] = summary[\"p\"] < (0.05/5)  # Bonferroni correction for 5 tests\n",
    "\n",
    "# Reorder columns\n",
    "cols = [\n",
    "    \"hypothesis\",\n",
    "    \"question\",\n",
    "    \"test\",\n",
    "    \"p\",\n",
    "    \"effect_value\",\n",
    "    \"effect_note\",\n",
    "    \"Significant_0.05\",\n",
    "    \"Significant_Bonferroni_0.01\",\n",
    "    \"notes\"\n",
    "]\n",
    "summary = summary[cols]\n",
    "\n",
    "# Export to CSV for Tableau\n",
    "summary.to_csv(\"hypothesis_results_summary.csv\", index=False)\n",
    "\n",
    "# Display first few rows\n",
    "summary.head()"
   ]
  },
  {
   "cell_type": "markdown",
   "id": "0ebe01af",
   "metadata": {},
   "source": [
    "## Conclusion\n",
    "\n",
    "The hypothesis testing stage provided valuable statistical insights into potential relationships between lifestyle factors and diabetes prevalence in the dataset.\n",
    "\n",
    "Key observations:\n",
    "- The chi-square tests revealed statistically significant associations for some categorical variables, though effect sizes (`effect_value`) were generally small, indicating weak practical relevance despite statistical significance.\n",
    "- The Mann–Whitney U tests showed differences in certain continuous variables (e.g., BMI, age) between diabetic and non-diabetic groups, with `effect_note` indicating small-to-moderate effects.\n",
    "- The Bonferroni correction reduced the number of results considered statistically significant, helping to avoid false positives from multiple testing.\n",
    "- All results were compiled into a single structured file, **`hypothesis_results_summary.csv`**, containing p-values (`p`), effect sizes, interpretations, and notes for each hypothesis.\n",
    "- This file can now be imported into Tableau to create an interactive “Hypothesis Testing Results” view for easier communication to stakeholders.\n",
    "\n",
    "While statistical significance is important, the small effect sizes suggest that predictive modelling (Machine Learning) may be better suited to capturing complex, multivariate patterns in this dataset."
   ]
  }
 ],
 "metadata": {
  "kernelspec": {
   "display_name": ".venv",
   "language": "python",
   "name": "python3"
  },
  "language_info": {
   "codemirror_mode": {
    "name": "ipython",
    "version": 3
   },
   "file_extension": ".py",
   "mimetype": "text/x-python",
   "name": "python",
   "nbconvert_exporter": "python",
   "pygments_lexer": "ipython3",
   "version": "3.12.8"
  }
 },
 "nbformat": 4,
 "nbformat_minor": 5
}
