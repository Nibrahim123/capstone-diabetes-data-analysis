{
 "cells": [
  {
   "cell_type": "markdown",
   "id": "2fa451b8",
   "metadata": {},
   "source": [
    "# ETL Part 2: Feature Engineering, Encoding, and Scaling"
   ]
  }
 ],
 "metadata": {
  "kernelspec": {
   "display_name": ".venv",
   "language": "python",
   "name": "python3"
  },
  "language_info": {
   "name": "python",
   "version": "3.12.8"
  }
 },
 "nbformat": 4,
 "nbformat_minor": 5
}
